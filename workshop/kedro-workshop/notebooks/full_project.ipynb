{
 "cells": [
  {
   "cell_type": "code",
   "execution_count": 2,
   "id": "e6bc39b9-3b7a-4490-8119-309d6dc8d014",
   "metadata": {},
   "outputs": [],
   "source": [
    "import pandas as pd\n",
    "\n",
    "# Load data\n",
    "companies = pd.read_csv(\"../data/01_raw/companies.csv\") \n",
    "shuttles = pd.read_excel(\"../data/01_raw/shuttles.xlsx\")\n",
    "reviews = pd.read_csv(\"../data/01_raw/reviews.csv\") "
   ]
  },
  {
   "cell_type": "code",
   "execution_count": 6,
   "id": "e2581c6d-bb60-40cc-8613-f3c2313f2c17",
   "metadata": {},
   "outputs": [
    {
     "data": {
      "text/html": [
       "<pre style=\"white-space:pre;overflow-x:auto;line-height:normal;font-family:Menlo,'DejaVu Sans Mono',consolas,'Courier New',monospace\"></pre>\n"
      ],
      "text/plain": []
     },
     "metadata": {},
     "output_type": "display_data"
    },
    {
     "data": {
      "text/html": [
       "<div>\n",
       "<style scoped>\n",
       "    .dataframe tbody tr th:only-of-type {\n",
       "        vertical-align: middle;\n",
       "    }\n",
       "\n",
       "    .dataframe tbody tr th {\n",
       "        vertical-align: top;\n",
       "    }\n",
       "\n",
       "    .dataframe thead th {\n",
       "        text-align: right;\n",
       "    }\n",
       "</style>\n",
       "<table border=\"1\" class=\"dataframe\">\n",
       "  <thead>\n",
       "    <tr style=\"text-align: right;\">\n",
       "      <th></th>\n",
       "      <th>id</th>\n",
       "      <th>company_rating</th>\n",
       "      <th>company_location</th>\n",
       "      <th>total_fleet_count</th>\n",
       "      <th>iata_approved</th>\n",
       "    </tr>\n",
       "  </thead>\n",
       "  <tbody>\n",
       "    <tr>\n",
       "      <th>0</th>\n",
       "      <td>3888</td>\n",
       "      <td>1.00</td>\n",
       "      <td>Isle of Man</td>\n",
       "      <td>1.0</td>\n",
       "      <td>True</td>\n",
       "    </tr>\n",
       "    <tr>\n",
       "      <th>1</th>\n",
       "      <td>46728</td>\n",
       "      <td>1.00</td>\n",
       "      <td>NaN</td>\n",
       "      <td>1.0</td>\n",
       "      <td>True</td>\n",
       "    </tr>\n",
       "    <tr>\n",
       "      <th>2</th>\n",
       "      <td>34618</td>\n",
       "      <td>0.38</td>\n",
       "      <td>Isle of Man</td>\n",
       "      <td>1.0</td>\n",
       "      <td>True</td>\n",
       "    </tr>\n",
       "    <tr>\n",
       "      <th>3</th>\n",
       "      <td>28619</td>\n",
       "      <td>1.00</td>\n",
       "      <td>Bosnia and Herzegovina</td>\n",
       "      <td>1.0</td>\n",
       "      <td>True</td>\n",
       "    </tr>\n",
       "    <tr>\n",
       "      <th>4</th>\n",
       "      <td>8240</td>\n",
       "      <td>NaN</td>\n",
       "      <td>Chile</td>\n",
       "      <td>1.0</td>\n",
       "      <td>True</td>\n",
       "    </tr>\n",
       "  </tbody>\n",
       "</table>\n",
       "</div>"
      ],
      "text/plain": [
       "\n",
       "      id  company_rating        company_location  total_fleet_count  \\\n",
       "\u001b[1;36m0\u001b[0m   \u001b[1;36m3888\u001b[0m            \u001b[1;36m1.00\u001b[0m             Isle of Man                \u001b[1;36m1.0\u001b[0m   \n",
       "\u001b[1;36m1\u001b[0m  \u001b[1;36m46728\u001b[0m            \u001b[1;36m1.00\u001b[0m                     NaN                \u001b[1;36m1.0\u001b[0m   \n",
       "\u001b[1;36m2\u001b[0m  \u001b[1;36m34618\u001b[0m            \u001b[1;36m0.38\u001b[0m             Isle of Man                \u001b[1;36m1.0\u001b[0m   \n",
       "\u001b[1;36m3\u001b[0m  \u001b[1;36m28619\u001b[0m            \u001b[1;36m1.00\u001b[0m  Bosnia and Herzegovina                \u001b[1;36m1.0\u001b[0m   \n",
       "\u001b[1;36m4\u001b[0m   \u001b[1;36m8240\u001b[0m             NaN                   Chile                \u001b[1;36m1.0\u001b[0m   \n",
       "\n",
       "   iata_approved  \n",
       "\u001b[1;36m0\u001b[0m           \u001b[3;92mTrue\u001b[0m  \n",
       "\u001b[1;36m1\u001b[0m           \u001b[3;92mTrue\u001b[0m  \n",
       "\u001b[1;36m2\u001b[0m           \u001b[3;92mTrue\u001b[0m  \n",
       "\u001b[1;36m3\u001b[0m           \u001b[3;92mTrue\u001b[0m  \n",
       "\u001b[1;36m4\u001b[0m           \u001b[3;92mTrue\u001b[0m  "
      ]
     },
     "execution_count": 6,
     "metadata": {},
     "output_type": "execute_result"
    }
   ],
   "source": [
    "companies.head(5)"
   ]
  },
  {
   "cell_type": "code",
   "execution_count": null,
   "id": "32d3066a-39a5-4b58-bfab-c0f8270828b3",
   "metadata": {},
   "outputs": [],
   "source": [
    "# Preprocess data\n",
    "companies['iata_approved'] = companies['iata_approved'].astype(bool)\n",
    "companies['company_rating'] = companies['company_rating'].str.replace('%', '').astype(float) / 100\n",
    "\n",
    "shuttles[\"d_check_complete\"] = shuttles[\"d_check_complete\"].astype(bool)\n",
    "shuttles[\"moon_clearance_complete\"] = shuttles[\"moon_clearance_complete\"].astype(bool)\n",
    "shuttles[\"price\"] = shuttles[\"price\"].str.replace(\"$\", \"\").str.replace(\",\", \"\").astype(float)"
   ]
  },
  {
   "cell_type": "code",
   "execution_count": 3,
   "id": "80f07b49-9476-43b7-9b65-cf3a7e23c6a5",
   "metadata": {},
   "outputs": [],
   "source": [
    "# Create model input table\n",
    "rated_shuttles = shuttles.merge(reviews, left_on=\"id\", right_on=\"shuttle_id\")\n",
    "rated_shuttles = rated_shuttles.drop(\"id\", axis=1)\n",
    "model_input_table = rated_shuttles.merge(companies, left_on=\"company_id\", right_on=\"id\")\n",
    "model_input_table = model_input_table.dropna()"
   ]
  },
  {
   "cell_type": "code",
   "execution_count": 4,
   "id": "f40824a1-1a9f-4516-a229-fe6e725b0466",
   "metadata": {},
   "outputs": [],
   "source": [
    "from sklearn.linear_model import LinearRegression\n",
    "from sklearn.metrics import r2_score\n",
    "from sklearn.model_selection import train_test_split\n",
    "\n",
    "# Split data\n",
    "features = [\"engines\", \"passenger_capacity\", \"crew\", \"d_check_complete\", \"moon_clearance_complete\", \"iata_approved\", \"company_rating\", \n",
    "            \"review_scores_rating\"]\n",
    "X = model_input_table[features]\n",
    "y = model_input_table[\"price\"]\n",
    "X_train, X_test, y_train, y_test = train_test_split(X, y, test_size=0.2, random_state=3)"
   ]
  },
  {
   "cell_type": "code",
   "execution_count": 5,
   "id": "ca70cabc-0bdb-4a03-8352-30ef2189b553",
   "metadata": {},
   "outputs": [
    {
     "data": {
      "text/html": [
       "<pre style=\"white-space:pre;overflow-x:auto;line-height:normal;font-family:Menlo,'DejaVu Sans Mono',consolas,'Courier New',monospace\"></pre>\n"
      ],
      "text/plain": []
     },
     "metadata": {},
     "output_type": "display_data"
    },
    {
     "data": {
      "text/plain": [
       "\u001b[1;36m0.38788878620813416\u001b[0m"
      ]
     },
     "execution_count": 5,
     "metadata": {},
     "output_type": "execute_result"
    }
   ],
   "source": [
    "# Train model\n",
    "regressor = LinearRegression()\n",
    "regressor.fit(X_train, y_train)\n",
    "\n",
    "# Evaluate model\n",
    "y_pred = regressor.predict(X_test)\n",
    "score = r2_score(y_test, y_pred)\n",
    "score"
   ]
  },
  {
   "cell_type": "code",
   "execution_count": null,
   "id": "c85f2667",
   "metadata": {},
   "outputs": [],
   "source": [
    "# Step 1: Modularise the code\n",
    "\n",
    "# Step 2: Call functions from main method:\n",
    "\n",
    "# def main():\n",
    "#     # Load data\n",
    "#     companies, shuttles, reviews = load_data()\n",
    "\n",
    "#     # Preprocess data\n",
    "#     preprocessed_companies = preprocess_companies(companies)\n",
    "#     preprocessed_shuttles = preprocess_shuttles(shuttles)\n",
    "\n",
    "#     # Create model input table\n",
    "#     model_input_table = create_model_input_table(preprocessed_companies, preprocessed_shuttles, reviews)\n",
    "\n",
    "#     # Split data\n",
    "#     features = [\"engines\", \"passenger_capacity\", \"crew\", \"d_check_complete\", \"moon_clearance_complete\", \"iata_approved\", \"company_rating\", \"review_scores_rating\"]\n",
    "#     X_train, X_test, y_train, y_test = split_data(model_input_table, features)\n",
    "\n",
    "#     # Train model\n",
    "#     regressor = train_model(X_train, y_train)\n",
    "\n",
    "#     # Evaluate model\n",
    "#     score = evaluate_model(regressor, X_test, y_test)\n",
    "#     print(f\"The model's R2 score is {score}\")"
   ]
  }
 ],
 "metadata": {
  "kernelspec": {
   "display_name": "Kedro (wcc_workshop)",
   "language": "python",
   "name": "kedro_wcc_workshop"
  },
  "language_info": {
   "codemirror_mode": {
    "name": "ipython",
    "version": 3
   },
   "file_extension": ".py",
   "mimetype": "text/x-python",
   "name": "python",
   "nbconvert_exporter": "python",
   "pygments_lexer": "ipython3",
   "version": "3.12.4"
  }
 },
 "nbformat": 4,
 "nbformat_minor": 5
}
